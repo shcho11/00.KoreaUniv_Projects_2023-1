{
  "nbformat": 4,
  "nbformat_minor": 0,
  "metadata": {
    "colab": {
      "provenance": [],
      "include_colab_link": true
    },
    "kernelspec": {
      "name": "python3",
      "display_name": "Python 3"
    },
    "language_info": {
      "name": "python"
    },
    "gpuClass": "standard"
  },
  "cells": [
    {
      "cell_type": "markdown",
      "metadata": {
        "id": "view-in-github",
        "colab_type": "text"
      },
      "source": [
        "<a href=\"https://colab.research.google.com/github/shcho11/00.Projects_KoreaUniv_2023-1/blob/main/202304_RS_TFIDF.ipynb\" target=\"_parent\"><img src=\"https://colab.research.google.com/assets/colab-badge.svg\" alt=\"Open In Colab\"/></a>"
      ]
    },
    {
      "cell_type": "code",
      "execution_count": null,
      "metadata": {
        "id": "Jq3tkvin8sj7",
        "colab": {
          "base_uri": "https://localhost:8080/"
        },
        "outputId": "21e2f6a3-fb9e-409d-e7b0-b082a597965e"
      },
      "outputs": [
        {
          "output_type": "stream",
          "name": "stdout",
          "text": [
            "Mounted at /content/drive\n"
          ]
        }
      ],
      "source": [
        "from google.colab import drive\n",
        "drive.mount('/content/drive')"
      ]
    },
    {
      "cell_type": "markdown",
      "source": [
        "- kss는 한국어 문장 분리 모듈로, 자세한 내용은 [링크](https://pypi.org/project/kss/)를 참고하세요."
      ],
      "metadata": {
        "id": "xbcyVHP9qD01"
      }
    },
    {
      "cell_type": "code",
      "source": [
        "!pip install kss"
      ],
      "metadata": {
        "colab": {
          "base_uri": "https://localhost:8080/"
        },
        "id": "Y1UZfQ8Up7AN",
        "outputId": "41450e74-0a1e-4e3b-a843-d30691e3d7df"
      },
      "execution_count": null,
      "outputs": [
        {
          "output_type": "stream",
          "name": "stdout",
          "text": [
            "Looking in indexes: https://pypi.org/simple, https://us-python.pkg.dev/colab-wheels/public/simple/\n",
            "Collecting kss\n",
            "  Downloading kss-4.5.1.tar.gz (77 kB)\n",
            "\u001b[2K     \u001b[90m━━━━━━━━━━━━━━━━━━━━━━━━━━━━━━━━━━━━━━━━\u001b[0m \u001b[32m77.7/77.7 KB\u001b[0m \u001b[31m8.3 MB/s\u001b[0m eta \u001b[36m0:00:00\u001b[0m\n",
            "\u001b[?25h  Preparing metadata (setup.py) ... \u001b[?25l\u001b[?25hdone\n",
            "Collecting emoji==1.2.0\n",
            "  Downloading emoji-1.2.0-py3-none-any.whl (131 kB)\n",
            "\u001b[2K     \u001b[90m━━━━━━━━━━━━━━━━━━━━━━━━━━━━━━━━━━━━━━\u001b[0m \u001b[32m131.3/131.3 KB\u001b[0m \u001b[31m12.4 MB/s\u001b[0m eta \u001b[36m0:00:00\u001b[0m\n",
            "\u001b[?25hRequirement already satisfied: regex in /usr/local/lib/python3.9/dist-packages (from kss) (2022.10.31)\n",
            "Collecting pecab\n",
            "  Downloading pecab-1.0.8.tar.gz (26.4 MB)\n",
            "\u001b[2K     \u001b[90m━━━━━━━━━━━━━━━━━━━━━━━━━━━━━━━━━━━━━━━━\u001b[0m \u001b[32m26.4/26.4 MB\u001b[0m \u001b[31m36.2 MB/s\u001b[0m eta \u001b[36m0:00:00\u001b[0m\n",
            "\u001b[?25h  Preparing metadata (setup.py) ... \u001b[?25l\u001b[?25hdone\n",
            "Requirement already satisfied: networkx in /usr/local/lib/python3.9/dist-packages (from kss) (3.0)\n",
            "Requirement already satisfied: numpy in /usr/local/lib/python3.9/dist-packages (from pecab->kss) (1.22.4)\n",
            "Requirement already satisfied: pyarrow in /usr/local/lib/python3.9/dist-packages (from pecab->kss) (9.0.0)\n",
            "Requirement already satisfied: pytest in /usr/local/lib/python3.9/dist-packages (from pecab->kss) (7.2.2)\n",
            "Requirement already satisfied: attrs>=19.2.0 in /usr/local/lib/python3.9/dist-packages (from pytest->pecab->kss) (22.2.0)\n",
            "Requirement already satisfied: tomli>=1.0.0 in /usr/local/lib/python3.9/dist-packages (from pytest->pecab->kss) (2.0.1)\n",
            "Requirement already satisfied: iniconfig in /usr/local/lib/python3.9/dist-packages (from pytest->pecab->kss) (2.0.0)\n",
            "Requirement already satisfied: pluggy<2.0,>=0.12 in /usr/local/lib/python3.9/dist-packages (from pytest->pecab->kss) (1.0.0)\n",
            "Requirement already satisfied: exceptiongroup>=1.0.0rc8 in /usr/local/lib/python3.9/dist-packages (from pytest->pecab->kss) (1.1.1)\n",
            "Requirement already satisfied: packaging in /usr/local/lib/python3.9/dist-packages (from pytest->pecab->kss) (23.0)\n",
            "Building wheels for collected packages: kss, pecab\n",
            "  Building wheel for kss (setup.py) ... \u001b[?25l\u001b[?25hdone\n",
            "  Created wheel for kss: filename=kss-4.5.1-py3-none-any.whl size=53220 sha256=a73d54412390d0efda2f1d248bf8c9e0b18e09b55c14eea0f2b49ae71238d8d9\n",
            "  Stored in directory: /root/.cache/pip/wheels/2f/23/d1/e9c8f5f2e8a61bb4cb8e4fdd0d0c951dab78882e3807c7f7ca\n",
            "  Building wheel for pecab (setup.py) ... \u001b[?25l\u001b[?25hdone\n",
            "  Created wheel for pecab: filename=pecab-1.0.8-py3-none-any.whl size=26646666 sha256=a5642041efcf1f50f3efa7e28032cb23dd53aba05587d525f13e4054bd1d59e2\n",
            "  Stored in directory: /root/.cache/pip/wheels/5c/91/bf/14eed6eafd0a83f76eab5cf8eb50ddc0b037f059eec2bd2e4a\n",
            "Successfully built kss pecab\n",
            "Installing collected packages: emoji, pecab, kss\n",
            "Successfully installed emoji-1.2.0 kss-4.5.1 pecab-1.0.8\n"
          ]
        }
      ]
    },
    {
      "cell_type": "code",
      "source": [
        "!pip install konlpy"
      ],
      "metadata": {
        "colab": {
          "base_uri": "https://localhost:8080/"
        },
        "id": "pyYwJ6n4NVHy",
        "outputId": "6b9c6c32-36cc-40df-c345-03dce8663dee"
      },
      "execution_count": null,
      "outputs": [
        {
          "output_type": "stream",
          "name": "stdout",
          "text": [
            "Looking in indexes: https://pypi.org/simple, https://us-python.pkg.dev/colab-wheels/public/simple/\n",
            "Collecting konlpy\n",
            "  Downloading konlpy-0.6.0-py2.py3-none-any.whl (19.4 MB)\n",
            "\u001b[2K     \u001b[90m━━━━━━━━━━━━━━━━━━━━━━━━━━━━━━━━━━━━━━━━\u001b[0m \u001b[32m19.4/19.4 MB\u001b[0m \u001b[31m54.3 MB/s\u001b[0m eta \u001b[36m0:00:00\u001b[0m\n",
            "\u001b[?25hCollecting JPype1>=0.7.0\n",
            "  Downloading JPype1-1.4.1-cp39-cp39-manylinux_2_12_x86_64.manylinux2010_x86_64.whl (465 kB)\n",
            "\u001b[2K     \u001b[90m━━━━━━━━━━━━━━━━━━━━━━━━━━━━━━━━━━━━━━\u001b[0m \u001b[32m465.3/465.3 KB\u001b[0m \u001b[31m42.3 MB/s\u001b[0m eta \u001b[36m0:00:00\u001b[0m\n",
            "\u001b[?25hRequirement already satisfied: numpy>=1.6 in /usr/local/lib/python3.9/dist-packages (from konlpy) (1.22.4)\n",
            "Requirement already satisfied: lxml>=4.1.0 in /usr/local/lib/python3.9/dist-packages (from konlpy) (4.9.2)\n",
            "Requirement already satisfied: packaging in /usr/local/lib/python3.9/dist-packages (from JPype1>=0.7.0->konlpy) (23.0)\n",
            "Installing collected packages: JPype1, konlpy\n",
            "Successfully installed JPype1-1.4.1 konlpy-0.6.0\n"
          ]
        }
      ]
    },
    {
      "cell_type": "code",
      "source": [
        "import os\n",
        "import kss\n",
        "import re\n",
        "import konlpy\n",
        "from konlpy.tag import Kkma, Komoran, Hannanum, Okt\n",
        "from konlpy.utils import pprint"
      ],
      "metadata": {
        "id": "f9vcU_VoNhXg"
      },
      "execution_count": null,
      "outputs": []
    },
    {
      "cell_type": "markdown",
      "source": [
        "### 정규식\n",
        "- re.sub('패턴', '바꿀문자열', '문자열', 바꿀횟수)\n",
        "- RE가 일치하는 모든 부분 문자열을 찾고, 다른 문자열로 대체합니다."
      ],
      "metadata": {
        "id": "kyogobDlr-7X"
      }
    },
    {
      "cell_type": "code",
      "source": [
        "removal_list =  \"‘, ’, ◇, ‘, ”,  ’, ', ·, \\“, ·, △, ●,  , ■, (, ), \\\", >>, `, /, -,∼,=,ㆍ<,>, .,?, !,【,】, …, ◆,%\" # 불필요한 특수문자\n",
        "\n",
        "def cleansing_special(sentence):\n",
        "  #특수문자 전처리 (공백으로 바꾸어주기)\n",
        "  sentence = re.sub(\"[.,\\'\\\"’‘”“!?]\", \"\", sentence)\n",
        "  sentence = re.sub(\"[^가-힣0-9a-zA-Z\\\\s]\", \" \", sentence)\n",
        "  sentence = re.sub(\"\\s+\", \" \", sentence)\n",
        "\n",
        "  sentence = sentence.translate(str.maketrans(removal_list, ' '*len(removal_list)))\n",
        "  sentence = sentence.strip()\n",
        "\n",
        "  return sentence\n",
        "\n",
        "def cleansing_numbers(sentence):\n",
        "  #숫자 전처리 (숫자를 NUM으로 변환해주기)\n",
        "  sentence = re.sub('[0-9]+', 'NUM', sentence)\n",
        "  sentence = re.sub('NUM\\s+', \"NUM\", sentence)\n",
        "  sentence = re.sub('[NUM]+', \"NUM\", sentence)\n",
        "\n",
        "  return sentence"
      ],
      "metadata": {
        "id": "wSh8pQFasI3P"
      },
      "execution_count": null,
      "outputs": []
    },
    {
      "cell_type": "code",
      "source": [
        "cleansing_numbers(cleansing_special('123 숫자는 변환이 됩니다., 반갑다 친구야 특수 기호가 있어 ◆~123~~~~~~~'))"
      ],
      "metadata": {
        "colab": {
          "base_uri": "https://localhost:8080/",
          "height": 36
        },
        "id": "7SQib5opeFuI",
        "outputId": "ac115428-9e2d-4e52-8d67-7e77690e4644"
      },
      "execution_count": null,
      "outputs": [
        {
          "output_type": "execute_result",
          "data": {
            "text/plain": [
              "'NUM숫자는 변환이 됩니다 반갑다 친구야 특수 기호가 있어 NUM'"
            ],
            "application/vnd.google.colaboratory.intrinsic+json": {
              "type": "string"
            }
          },
          "metadata": {},
          "execution_count": 8
        }
      ]
    },
    {
      "cell_type": "code",
      "source": [
        "from konlpy.tag import Hannanum\n",
        "hannanum = Hannanum()"
      ],
      "metadata": {
        "id": "9BIDlnsbO6-a"
      },
      "execution_count": null,
      "outputs": []
    },
    {
      "cell_type": "code",
      "source": [
        "print(hannanum.nouns(u'무궁화 꽃이 피었습니다.'))"
      ],
      "metadata": {
        "colab": {
          "base_uri": "https://localhost:8080/"
        },
        "id": "5Q2GU0JCO-ey",
        "outputId": "2c4ff36c-d994-4edd-87d1-59e6eeddc53a"
      },
      "execution_count": null,
      "outputs": [
        {
          "output_type": "stream",
          "name": "stdout",
          "text": [
            "['무궁화', '꽃']\n"
          ]
        }
      ]
    },
    {
      "cell_type": "code",
      "source": [
        "list(set(hannanum.nouns(\"챗지피티는 인공지능 개발회사인 오픈AI(Open AI)가 개발한 초거대 언어모델 인공지능 기술로, 3.5버전에서 이미 다양한 활용도를 보여주고 있지만, 앞으로 버전 4.0에서는 더 엄청난 변화가 예상된다. 특정분야에 대한 전문지식을 인간수준으로 끌어 올리고 이미지와 텍스트를 모두 이해할 수 있어 복합적인 정보를 이해하고 생산성을 높일 수 있는 강력한 도구가 될 것이라는 평가를 받는다.\")))"
      ],
      "metadata": {
        "id": "U1P_CozljTb1",
        "colab": {
          "base_uri": "https://localhost:8080/"
        },
        "outputId": "462fe4ce-2ee6-4b80-9fdc-b1c87c44cc2d"
      },
      "execution_count": null,
      "outputs": [
        {
          "output_type": "execute_result",
          "data": {
            "text/plain": [
              "['활용도',\n",
              " '예상',\n",
              " '버전',\n",
              " '4.',\n",
              " '복합적',\n",
              " '수',\n",
              " '인간수준',\n",
              " '평가',\n",
              " '변화',\n",
              " '앞',\n",
              " '이미지',\n",
              " '특정분야',\n",
              " '생산성',\n",
              " '챗지피티',\n",
              " '도구',\n",
              " '전문지식',\n",
              " '3.',\n",
              " '강력한',\n",
              " '인공지능',\n",
              " '기술',\n",
              " '정보',\n",
              " '다양',\n",
              " '오픈AI(Open',\n",
              " '초거대',\n",
              " '5버전',\n",
              " '것',\n",
              " '리',\n",
              " '이해',\n",
              " '텍스트',\n",
              " '개발',\n",
              " '0',\n",
              " '개발회사',\n",
              " '언어모델']"
            ]
          },
          "metadata": {},
          "execution_count": 11
        }
      ]
    },
    {
      "cell_type": "code",
      "source": [
        "' '.join(list(set(hannanum.nouns(\"챗지피티는 인공지능 개발회사인 오픈AI(Open AI)가 개발한 초거대 언어모델 인공지능 기술로, 3.5버전에서 이미 다양한 활용도를 보여주고 있지만, 앞으로 버전 4.0에서는 더 엄청난 변화가 예상된다. 특정분야에 대한 전문지식을 인간수준으로 끌어 올리고 이미지와 텍스트를 모두 이해할 수 있어 복합적인 정보를 이해하고 생산성을 높일 수 있는 강력한 도구가 될 것이라는 평가를 받는다.\"))))\n",
        "\n"
      ],
      "metadata": {
        "colab": {
          "base_uri": "https://localhost:8080/",
          "height": 54
        },
        "id": "IAbj7XiOhRQz",
        "outputId": "4a26f227-09b9-4153-adaf-082b62d3e9ec"
      },
      "execution_count": null,
      "outputs": [
        {
          "output_type": "execute_result",
          "data": {
            "text/plain": [
              "'활용도 예상 버전 4. 복합적 수 인간수준 평가 변화 앞 이미지 특정분야 생산성 챗지피티 도구 전문지식 3. 강력한 인공지능 기술 정보 다양 오픈AI(Open 초거대 5버전 것 리 이해 텍스트 개발 0 개발회사 언어모델'"
            ],
            "application/vnd.google.colaboratory.intrinsic+json": {
              "type": "string"
            }
          },
          "metadata": {},
          "execution_count": 12
        }
      ]
    },
    {
      "cell_type": "code",
      "source": [
        "kss.split_sentences(\"챗지피티는 인공지능 개발회사인 오픈AI(Open AI)가 개발한 초거대 언어모델 인공지능 기술로, 3.5버전에서 이미 다양한 활용도를 보여주고 있지만, 앞으로 버전 4.0에서는 더 엄청난 변화가 예상된다. 특정분야에 대한 전문지식을 인간수준으로 끌어 올리고 이미지와 텍스트를 모두 이해할 수 있어 복합적인 정보를 이해하고 생산성을 높일 수 있는 강력한 도구가 될 것이라는 평가를 받는다.\")"
      ],
      "metadata": {
        "colab": {
          "base_uri": "https://localhost:8080/"
        },
        "id": "o0m7mJlSk-Yh",
        "outputId": "7f8fb3b8-e3fd-4965-a855-e4a4cb0d3ba3"
      },
      "execution_count": null,
      "outputs": [
        {
          "output_type": "stream",
          "name": "stderr",
          "text": [
            "WARNING:root:Oh! You have mecab in your environment. Kss will take this as a backend! :D\n",
            "\n"
          ]
        },
        {
          "output_type": "execute_result",
          "data": {
            "text/plain": [
              "['챗지피티는 인공지능 개발회사인 오픈AI(Open AI)가 개발한 초거대 언어모델 인공지능 기술로, 3.5버전에서 이미 다양한 활용도를 보여주고 있지만, 앞으로 버전 4.0에서는 더 엄청난 변화가 예상된다.',\n",
              " '특정분야에 대한 전문지식을 인간수준으로 끌어 올리고 이미지와 텍스트를 모두 이해할 수 있어 복합적인 정보를 이해하고 생산성을 높일 수 있는 강력한 도구가 될 것이라는 평가를 받는다.']"
            ]
          },
          "metadata": {},
          "execution_count": 13
        }
      ]
    },
    {
      "cell_type": "code",
      "source": [
        "import os\n",
        "os.getcwd()"
      ],
      "metadata": {
        "colab": {
          "base_uri": "https://localhost:8080/",
          "height": 36
        },
        "id": "R0-yaeU_XecC",
        "outputId": "c54ff7c1-2887-4d04-a0c2-ae49b600404b"
      },
      "execution_count": null,
      "outputs": [
        {
          "output_type": "execute_result",
          "data": {
            "text/plain": [
              "'/content'"
            ],
            "application/vnd.google.colaboratory.intrinsic+json": {
              "type": "string"
            }
          },
          "metadata": {},
          "execution_count": 14
        }
      ]
    },
    {
      "cell_type": "code",
      "source": [
        "data_path = '/content/drive/MyDrive/'\n",
        "\n",
        "all_sentences = []\n",
        "with open(os.path.join(data_path, '4주_news.txt'),'r', encoding='utf-8' ) as f:\n",
        "  for idx, line in enumerate(f.readlines()):\n",
        "    preprocessed = cleansing_numbers(line)\n",
        "    preprocessed = cleansing_special(preprocessed)\n",
        "\n",
        "    #[STEP]명사 추출\n",
        "    preprocessed_news = ' '.join(list(set(hannanum.nouns(preprocessed))))\n",
        "\n",
        "    #[STEP]문장 분리해서 사용하는 방법\n",
        "    # preprocessed_news = ' '.join(kss.split_sentences(preprocessed))\n",
        "    # print(preprocessed_news)\n",
        "    all_sentences.append(preprocessed_news)\n",
        "\n"
      ],
      "metadata": {
        "id": "-Sj67IiffKiQ"
      },
      "execution_count": null,
      "outputs": []
    },
    {
      "cell_type": "code",
      "source": [
        "all_sentences"
      ],
      "metadata": {
        "id": "u-RLoPN7VrXp",
        "outputId": "c9b325ef-ac17-48d9-9762-dbf947e29401",
        "colab": {
          "base_uri": "https://localhost:8080/"
        }
      },
      "execution_count": null,
      "outputs": [
        {
          "output_type": "execute_result",
          "data": {
            "text/plain": [
              "['필요성 설치 제NUM회 의원 차 질문 도정 문화체육시설 관련 제안 홍성현 레저용 챗지피티 본회의 마련 임시회 대응체계 은 남도의회 교육행정 천안NUM 교육청 국민의힘',\n",
              " '활용도 예상 버전 복합적 수 인간수준 평가 변화 앞 이미지 특정분야 생산성 챗지피티 도구 전문지식 강력한 인공지능 기술 정보 다양 초거대 오픈AI 것 리 이해 텍스트 개발 개발회사 언어모델',\n",
              " '리더십 명 소프트웨어 교장 중 초 대상 개최 청주호텔 특수학교 워크숍 인공지능 교육 그랜드플라자 충북교육청 도내',\n",
              " '자리 방안 관련 고민 토론 마련됐다특히 이슈 인공지능기술 도내 학교현장 영향 이날 AI교육 관심 인공지능교육 명 교장 워크숍 교육현장 이번 참석 적용',\n",
              " '서비스 활용 등장 등 신학적 기반 이후 논의 가운데 개발 설교 준비 가능성 문제 시작 무엇 대답 교계',\n",
              " '공개 언어 버전 밝혔다생성형 초 수 인터페이스 우리가게패키지 특화 탑재 응용프로그램 스타트업 패키지 를 대답 전용 인공지능 자연어 기술 오픈 이달 챗GPT LG유플러스 앱 인간 소상공 오픈AI 챗봇 서비스 결합 미국 외부 모델 상품 애플리케이션 적용',\n",
              " '설치 검토 방안 수 후 우리가게패키지 다양한 원스토어 편리 전용 활용 이 이용 챗GPT LG유플러스 수집 실행만 애플 앱 소상공 지속 구글 기능 상품 앱스토 가입 계획 플레이스토어 학습 데이터',\n",
              " '자리 주제 이코노미스트 NUM회째 경제 테크 행사 포럼 활용법 기술 전문지 맥 서울 챗GPT 개최 올해 전국은행연합회 중구 동향',\n",
              " '혁신기술 대화형 생성형 화두 네트워크 초청 광주 최고기술임원 등 트렌드 성황리 신용녀 비즈니스모델 층 공유하기 열렸다인공지능산업융합사업단 인공지능 오픈 기술 활용 광주과학기술원 분야 챗GPT 개최 오룡관 한국 인식 세미나 세계적 다산홀 챗봇 공공교육사업본부 기술트렌드 제',\n",
              " '활용 이 어르신 이상 이석주 제도 여수시의원 객관적 보충자료 NUM세 무료버스 관심 도입 주장',\n",
              " '제NUM회 의원 질문 관련 역설 여수시의회 당위성 본회의 제NUM차 도입 활용 시장 임시회 정기명 이상 과정 NUM세 무료버스 시행 보충',\n",
              " '활용 예상 적극 최초 국내 을 주목 이슈 의사결정 사례 논란 정보수집 도입 핫 인공지능 의정활동',\n",
              " '윤리 수 사례 화두 환경 다음달 오후 중랑구 인공지능 시 마련 밝혔다강의 서울 챗GPT 중랑미디어센터 적응 급변 미디어 구민 이해 진행 교육 적용',\n",
              " '개설 활용 목표 신청자 과정 여름강좌 챗GPT NUM년 인턴 대상 대졸 를 서울대 설계 반도체',\n",
              " '이서규 혁신공유대학 산업 생태계 조성 사업단 차세대반도체 교수 체결 회장 과 단장 시스템반도체 한국팹리스산업협회 이혁재 서울대',\n",
              " '개설 목표 수 서울대학교 신청자 여름강좌 설계 비전공자 코딩분야 시간 분야 코딩 NUM년 인턴 진출 대졸 익숙 대상 시스템반도체 계획 회로설계',\n",
              " '언어 내용 대화형 처리 자연 학습 수 배화 기본적 이슈 특강 사용법 방법 교육환경 활용법 인공지능 자연어 기술 활용 포괄 다양 교직원들 인간 급변 제공 대상 모델 대비하기 진행 기계 이번 고급 대화 결합',\n",
              " '분야 구동 설명 등 교육행정질문 임시회 세계적 사용 열풍 제NUM회 의원 교육 기관 도정 인기 플랫폼 홍',\n",
              " '개인정보 윤리적 오용 보호정책 대응 등 시스템 영향 대책 주문키 방지 문제 편견 강화 AI교육 학생들 주장 마련',\n",
              " '대한상공회의소 금융산업위원회 서울 연세대학교 개최 교수 회장 컴퓨터과학 위원장 최현만 웨스틴조선호텔 소공동 인공지능학과장 초청해 를 김선주 미래에셋증권',\n",
              " '수학자 직업 회계사 합뉴스 챗GPT 등 영향 결과 생성형 연구 수 작 통역사 인공지능',\n",
              " '아무것 샌타바버 캘리포니아대 사람 뭐 자신 노출 마련 예측 교수 변화 저항 위협 말 지 못한다 매트 이해관계',\n",
              " '것 예상 창출 전 전날 골드만삭스 영향 세계 화이트칼라 보고서 생성향 노동생산성 수 일자리 정규직 NUM억개',\n",
              " '원칙 돈 시장 사람 모 곳 하나 중 예 입',\n",
              " '생성 페이스북 네이버 생성형 지 후 답변 추진 등 비교적 비롯 정보기술 인공지능 기술 기업 국내 카카오 챗GPT 고도화 마이크로소프트 구현 관심 빅테크 거대 등장 서비스 구글 기능 메타 단순']"
            ]
          },
          "metadata": {},
          "execution_count": 21
        }
      ]
    },
    {
      "cell_type": "markdown",
      "source": [
        "### Scikit-learn을 사용한 TF_IDF\n",
        "\n",
        "- 한글자 단어 제외\n",
        "- https://scikit-learn.org/stable/modules/generated/sklearn.feature_extraction.text.TfidfVectorizer.html\n",
        "- Useful option: tokenizer, stop_words"
      ],
      "metadata": {
        "id": "rD0TLrdYlcTU"
      }
    },
    {
      "cell_type": "code",
      "source": [
        "from sklearn.feature_extraction.text import TfidfVectorizer\n",
        "from collections import defaultdict\n",
        "from sklearn.feature_extraction.text import CountVectorizer\n",
        "import pandas as pd\n",
        "import numpy as np"
      ],
      "metadata": {
        "id": "cYNgIwrxk4Sm"
      },
      "execution_count": null,
      "outputs": []
    },
    {
      "cell_type": "code",
      "source": [
        "print(len(all_sentences))\n",
        "print(type(all_sentences))"
      ],
      "metadata": {
        "colab": {
          "base_uri": "https://localhost:8080/"
        },
        "id": "JCjrp-wCl02u",
        "outputId": "079b50f4-0ac2-4154-abec-d934677ed288"
      },
      "execution_count": null,
      "outputs": [
        {
          "output_type": "stream",
          "name": "stdout",
          "text": [
            "25\n",
            "<class 'list'>\n"
          ]
        }
      ]
    },
    {
      "cell_type": "code",
      "source": [
        "vectorizer = CountVectorizer()"
      ],
      "metadata": {
        "id": "PmmC0aDWUU4V"
      },
      "execution_count": null,
      "outputs": []
    },
    {
      "cell_type": "code",
      "source": [
        "# Document Term Matrix\n",
        "dtm = vectorizer.fit_transform(all_sentences)\n",
        "\n",
        "# Term Freqeuncy\n",
        "tf = pd.DataFrame(dtm.toarray(), columns = vectorizer.get_feature_names_out())"
      ],
      "metadata": {
        "id": "UZLklWuDROcD"
      },
      "execution_count": null,
      "outputs": []
    },
    {
      "cell_type": "code",
      "source": [
        "# Document Frequency\n",
        "df = tf.astype(bool).sum(axis = 0)\n",
        "\n",
        "df"
      ],
      "metadata": {
        "colab": {
          "base_uri": "https://localhost:8080/"
        },
        "id": "mhN7gZtsUkz4",
        "outputId": "b6a8bb04-a648-4db5-d694-cc6721c253e5"
      },
      "execution_count": null,
      "outputs": [
        {
          "output_type": "execute_result",
          "data": {
            "text/plain": [
              "ai교육      2\n",
              "lg유플러스    2\n",
              "num년      2\n",
              "num세      2\n",
              "num억개     1\n",
              "         ..\n",
              "활용도       1\n",
              "활용법       2\n",
              "회계사       1\n",
              "회로설계      1\n",
              "회장        2\n",
              "Length: 340, dtype: int64"
            ]
          },
          "metadata": {},
          "execution_count": 26
        }
      ]
    },
    {
      "cell_type": "code",
      "source": [
        "# 문서 개수\n",
        "D = len(tf)\n",
        "\n",
        "# Inverse Document Frequency\n",
        "idf = np.log((D+1) / (df+1)) + 1\n",
        "\n",
        "idf"
      ],
      "metadata": {
        "colab": {
          "base_uri": "https://localhost:8080/"
        },
        "id": "k0sREJ5sUk2g",
        "outputId": "70a87055-c837-4a30-9ca4-c3ecbf18d656"
      },
      "execution_count": null,
      "outputs": [
        {
          "output_type": "execute_result",
          "data": {
            "text/plain": [
              "ai교육      3.159484\n",
              "lg유플러스    3.159484\n",
              "num년      3.159484\n",
              "num세      3.159484\n",
              "num억개     3.564949\n",
              "            ...   \n",
              "활용도       3.564949\n",
              "활용법       3.159484\n",
              "회계사       3.564949\n",
              "회로설계      3.564949\n",
              "회장        3.159484\n",
              "Length: 340, dtype: float64"
            ]
          },
          "metadata": {},
          "execution_count": 27
        }
      ]
    },
    {
      "cell_type": "code",
      "source": [
        "# TF-IDF\n",
        "tfidf = tf * 1 /idf\n",
        "#tfidf = tfidf / np.linalg.norm(tfidf, axis = 1, keepdims = True, ord=2)\n",
        "\n",
        "tfidf = pd.DataFrame(tfidf)"
      ],
      "metadata": {
        "id": "wBpVzhtUUk4z"
      },
      "execution_count": null,
      "outputs": []
    },
    {
      "cell_type": "code",
      "source": [
        "tfidf"
      ],
      "metadata": {
        "colab": {
          "base_uri": "https://localhost:8080/",
          "height": 944
        },
        "id": "oc57LNgFUk7I",
        "outputId": "859fdb58-40f4-4938-f39c-475cdd10dc3b"
      },
      "execution_count": null,
      "outputs": [
        {
          "output_type": "execute_result",
          "data": {
            "text/plain": [
              "        ai교육    lg유플러스      num년      num세     num억개     num회째       가능성  \\\n",
              "0   0.000000  0.000000  0.000000  0.000000  0.000000  0.000000  0.000000   \n",
              "1   0.000000  0.000000  0.000000  0.000000  0.000000  0.000000  0.000000   \n",
              "2   0.000000  0.000000  0.000000  0.000000  0.000000  0.000000  0.000000   \n",
              "3   0.316507  0.000000  0.000000  0.000000  0.000000  0.000000  0.000000   \n",
              "4   0.000000  0.000000  0.000000  0.000000  0.000000  0.000000  0.280509   \n",
              "5   0.000000  0.316507  0.000000  0.000000  0.000000  0.000000  0.000000   \n",
              "6   0.000000  0.316507  0.000000  0.000000  0.000000  0.000000  0.000000   \n",
              "7   0.000000  0.000000  0.000000  0.000000  0.000000  0.280509  0.000000   \n",
              "8   0.000000  0.000000  0.000000  0.000000  0.000000  0.000000  0.000000   \n",
              "9   0.000000  0.000000  0.000000  0.316507  0.000000  0.000000  0.000000   \n",
              "10  0.000000  0.000000  0.000000  0.316507  0.000000  0.000000  0.000000   \n",
              "11  0.000000  0.000000  0.000000  0.000000  0.000000  0.000000  0.000000   \n",
              "12  0.000000  0.000000  0.000000  0.000000  0.000000  0.000000  0.000000   \n",
              "13  0.000000  0.000000  0.316507  0.000000  0.000000  0.000000  0.000000   \n",
              "14  0.000000  0.000000  0.000000  0.000000  0.000000  0.000000  0.000000   \n",
              "15  0.000000  0.000000  0.316507  0.000000  0.000000  0.000000  0.000000   \n",
              "16  0.000000  0.000000  0.000000  0.000000  0.000000  0.000000  0.000000   \n",
              "17  0.000000  0.000000  0.000000  0.000000  0.000000  0.000000  0.000000   \n",
              "18  0.316507  0.000000  0.000000  0.000000  0.000000  0.000000  0.000000   \n",
              "19  0.000000  0.000000  0.000000  0.000000  0.000000  0.000000  0.000000   \n",
              "20  0.000000  0.000000  0.000000  0.000000  0.000000  0.000000  0.000000   \n",
              "21  0.000000  0.000000  0.000000  0.000000  0.000000  0.000000  0.000000   \n",
              "22  0.000000  0.000000  0.000000  0.000000  0.280509  0.000000  0.000000   \n",
              "23  0.000000  0.000000  0.000000  0.000000  0.000000  0.000000  0.000000   \n",
              "24  0.000000  0.000000  0.000000  0.000000  0.000000  0.000000  0.000000   \n",
              "\n",
              "         가운데        가입       강력한  ...       홍성현        화두     화이트칼라        환경  \\\n",
              "0   0.000000  0.000000  0.000000  ...  0.280509  0.000000  0.000000  0.000000   \n",
              "1   0.000000  0.000000  0.280509  ...  0.000000  0.000000  0.000000  0.000000   \n",
              "2   0.000000  0.000000  0.000000  ...  0.000000  0.000000  0.000000  0.000000   \n",
              "3   0.000000  0.000000  0.000000  ...  0.000000  0.000000  0.000000  0.000000   \n",
              "4   0.280509  0.000000  0.000000  ...  0.000000  0.000000  0.000000  0.000000   \n",
              "5   0.000000  0.000000  0.000000  ...  0.000000  0.000000  0.000000  0.000000   \n",
              "6   0.000000  0.280509  0.000000  ...  0.000000  0.000000  0.000000  0.000000   \n",
              "7   0.000000  0.000000  0.000000  ...  0.000000  0.000000  0.000000  0.000000   \n",
              "8   0.000000  0.000000  0.000000  ...  0.000000  0.316507  0.000000  0.000000   \n",
              "9   0.000000  0.000000  0.000000  ...  0.000000  0.000000  0.000000  0.000000   \n",
              "10  0.000000  0.000000  0.000000  ...  0.000000  0.000000  0.000000  0.000000   \n",
              "11  0.000000  0.000000  0.000000  ...  0.000000  0.000000  0.000000  0.000000   \n",
              "12  0.000000  0.000000  0.000000  ...  0.000000  0.316507  0.000000  0.280509   \n",
              "13  0.000000  0.000000  0.000000  ...  0.000000  0.000000  0.000000  0.000000   \n",
              "14  0.000000  0.000000  0.000000  ...  0.000000  0.000000  0.000000  0.000000   \n",
              "15  0.000000  0.000000  0.000000  ...  0.000000  0.000000  0.000000  0.000000   \n",
              "16  0.000000  0.000000  0.000000  ...  0.000000  0.000000  0.000000  0.000000   \n",
              "17  0.000000  0.000000  0.000000  ...  0.000000  0.000000  0.000000  0.000000   \n",
              "18  0.000000  0.000000  0.000000  ...  0.000000  0.000000  0.000000  0.000000   \n",
              "19  0.000000  0.000000  0.000000  ...  0.000000  0.000000  0.000000  0.000000   \n",
              "20  0.000000  0.000000  0.000000  ...  0.000000  0.000000  0.000000  0.000000   \n",
              "21  0.000000  0.000000  0.000000  ...  0.000000  0.000000  0.000000  0.000000   \n",
              "22  0.000000  0.000000  0.000000  ...  0.000000  0.000000  0.280509  0.000000   \n",
              "23  0.000000  0.000000  0.000000  ...  0.000000  0.000000  0.000000  0.000000   \n",
              "24  0.000000  0.000000  0.000000  ...  0.000000  0.000000  0.000000  0.000000   \n",
              "\n",
              "          활용       활용도       활용법       회계사      회로설계        회장  \n",
              "0   0.000000  0.000000  0.000000  0.000000  0.000000  0.000000  \n",
              "1   0.000000  0.280509  0.000000  0.000000  0.000000  0.000000  \n",
              "2   0.000000  0.000000  0.000000  0.000000  0.000000  0.000000  \n",
              "3   0.000000  0.000000  0.000000  0.000000  0.000000  0.000000  \n",
              "4   0.485232  0.000000  0.000000  0.000000  0.000000  0.000000  \n",
              "5   0.000000  0.000000  0.000000  0.000000  0.000000  0.000000  \n",
              "6   0.485232  0.000000  0.000000  0.000000  0.000000  0.000000  \n",
              "7   0.000000  0.000000  0.316507  0.000000  0.000000  0.000000  \n",
              "8   0.485232  0.000000  0.000000  0.000000  0.000000  0.000000  \n",
              "9   0.485232  0.000000  0.000000  0.000000  0.000000  0.000000  \n",
              "10  0.485232  0.000000  0.000000  0.000000  0.000000  0.000000  \n",
              "11  0.485232  0.000000  0.000000  0.000000  0.000000  0.000000  \n",
              "12  0.000000  0.000000  0.000000  0.000000  0.000000  0.000000  \n",
              "13  0.485232  0.000000  0.000000  0.000000  0.000000  0.000000  \n",
              "14  0.000000  0.000000  0.000000  0.000000  0.000000  0.316507  \n",
              "15  0.000000  0.000000  0.000000  0.000000  0.280509  0.000000  \n",
              "16  0.485232  0.000000  0.316507  0.000000  0.000000  0.000000  \n",
              "17  0.000000  0.000000  0.000000  0.000000  0.000000  0.000000  \n",
              "18  0.000000  0.000000  0.000000  0.000000  0.000000  0.000000  \n",
              "19  0.000000  0.000000  0.000000  0.000000  0.000000  0.316507  \n",
              "20  0.000000  0.000000  0.000000  0.280509  0.000000  0.000000  \n",
              "21  0.000000  0.000000  0.000000  0.000000  0.000000  0.000000  \n",
              "22  0.000000  0.000000  0.000000  0.000000  0.000000  0.000000  \n",
              "23  0.000000  0.000000  0.000000  0.000000  0.000000  0.000000  \n",
              "24  0.000000  0.000000  0.000000  0.000000  0.000000  0.000000  \n",
              "\n",
              "[25 rows x 340 columns]"
            ],
            "text/html": [
              "\n",
              "  <div id=\"df-74e506ba-2c9b-4bec-a95a-8b5dbfd5ac53\">\n",
              "    <div class=\"colab-df-container\">\n",
              "      <div>\n",
              "<style scoped>\n",
              "    .dataframe tbody tr th:only-of-type {\n",
              "        vertical-align: middle;\n",
              "    }\n",
              "\n",
              "    .dataframe tbody tr th {\n",
              "        vertical-align: top;\n",
              "    }\n",
              "\n",
              "    .dataframe thead th {\n",
              "        text-align: right;\n",
              "    }\n",
              "</style>\n",
              "<table border=\"1\" class=\"dataframe\">\n",
              "  <thead>\n",
              "    <tr style=\"text-align: right;\">\n",
              "      <th></th>\n",
              "      <th>ai교육</th>\n",
              "      <th>lg유플러스</th>\n",
              "      <th>num년</th>\n",
              "      <th>num세</th>\n",
              "      <th>num억개</th>\n",
              "      <th>num회째</th>\n",
              "      <th>가능성</th>\n",
              "      <th>가운데</th>\n",
              "      <th>가입</th>\n",
              "      <th>강력한</th>\n",
              "      <th>...</th>\n",
              "      <th>홍성현</th>\n",
              "      <th>화두</th>\n",
              "      <th>화이트칼라</th>\n",
              "      <th>환경</th>\n",
              "      <th>활용</th>\n",
              "      <th>활용도</th>\n",
              "      <th>활용법</th>\n",
              "      <th>회계사</th>\n",
              "      <th>회로설계</th>\n",
              "      <th>회장</th>\n",
              "    </tr>\n",
              "  </thead>\n",
              "  <tbody>\n",
              "    <tr>\n",
              "      <th>0</th>\n",
              "      <td>0.000000</td>\n",
              "      <td>0.000000</td>\n",
              "      <td>0.000000</td>\n",
              "      <td>0.000000</td>\n",
              "      <td>0.000000</td>\n",
              "      <td>0.000000</td>\n",
              "      <td>0.000000</td>\n",
              "      <td>0.000000</td>\n",
              "      <td>0.000000</td>\n",
              "      <td>0.000000</td>\n",
              "      <td>...</td>\n",
              "      <td>0.280509</td>\n",
              "      <td>0.000000</td>\n",
              "      <td>0.000000</td>\n",
              "      <td>0.000000</td>\n",
              "      <td>0.000000</td>\n",
              "      <td>0.000000</td>\n",
              "      <td>0.000000</td>\n",
              "      <td>0.000000</td>\n",
              "      <td>0.000000</td>\n",
              "      <td>0.000000</td>\n",
              "    </tr>\n",
              "    <tr>\n",
              "      <th>1</th>\n",
              "      <td>0.000000</td>\n",
              "      <td>0.000000</td>\n",
              "      <td>0.000000</td>\n",
              "      <td>0.000000</td>\n",
              "      <td>0.000000</td>\n",
              "      <td>0.000000</td>\n",
              "      <td>0.000000</td>\n",
              "      <td>0.000000</td>\n",
              "      <td>0.000000</td>\n",
              "      <td>0.280509</td>\n",
              "      <td>...</td>\n",
              "      <td>0.000000</td>\n",
              "      <td>0.000000</td>\n",
              "      <td>0.000000</td>\n",
              "      <td>0.000000</td>\n",
              "      <td>0.000000</td>\n",
              "      <td>0.280509</td>\n",
              "      <td>0.000000</td>\n",
              "      <td>0.000000</td>\n",
              "      <td>0.000000</td>\n",
              "      <td>0.000000</td>\n",
              "    </tr>\n",
              "    <tr>\n",
              "      <th>2</th>\n",
              "      <td>0.000000</td>\n",
              "      <td>0.000000</td>\n",
              "      <td>0.000000</td>\n",
              "      <td>0.000000</td>\n",
              "      <td>0.000000</td>\n",
              "      <td>0.000000</td>\n",
              "      <td>0.000000</td>\n",
              "      <td>0.000000</td>\n",
              "      <td>0.000000</td>\n",
              "      <td>0.000000</td>\n",
              "      <td>...</td>\n",
              "      <td>0.000000</td>\n",
              "      <td>0.000000</td>\n",
              "      <td>0.000000</td>\n",
              "      <td>0.000000</td>\n",
              "      <td>0.000000</td>\n",
              "      <td>0.000000</td>\n",
              "      <td>0.000000</td>\n",
              "      <td>0.000000</td>\n",
              "      <td>0.000000</td>\n",
              "      <td>0.000000</td>\n",
              "    </tr>\n",
              "    <tr>\n",
              "      <th>3</th>\n",
              "      <td>0.316507</td>\n",
              "      <td>0.000000</td>\n",
              "      <td>0.000000</td>\n",
              "      <td>0.000000</td>\n",
              "      <td>0.000000</td>\n",
              "      <td>0.000000</td>\n",
              "      <td>0.000000</td>\n",
              "      <td>0.000000</td>\n",
              "      <td>0.000000</td>\n",
              "      <td>0.000000</td>\n",
              "      <td>...</td>\n",
              "      <td>0.000000</td>\n",
              "      <td>0.000000</td>\n",
              "      <td>0.000000</td>\n",
              "      <td>0.000000</td>\n",
              "      <td>0.000000</td>\n",
              "      <td>0.000000</td>\n",
              "      <td>0.000000</td>\n",
              "      <td>0.000000</td>\n",
              "      <td>0.000000</td>\n",
              "      <td>0.000000</td>\n",
              "    </tr>\n",
              "    <tr>\n",
              "      <th>4</th>\n",
              "      <td>0.000000</td>\n",
              "      <td>0.000000</td>\n",
              "      <td>0.000000</td>\n",
              "      <td>0.000000</td>\n",
              "      <td>0.000000</td>\n",
              "      <td>0.000000</td>\n",
              "      <td>0.280509</td>\n",
              "      <td>0.280509</td>\n",
              "      <td>0.000000</td>\n",
              "      <td>0.000000</td>\n",
              "      <td>...</td>\n",
              "      <td>0.000000</td>\n",
              "      <td>0.000000</td>\n",
              "      <td>0.000000</td>\n",
              "      <td>0.000000</td>\n",
              "      <td>0.485232</td>\n",
              "      <td>0.000000</td>\n",
              "      <td>0.000000</td>\n",
              "      <td>0.000000</td>\n",
              "      <td>0.000000</td>\n",
              "      <td>0.000000</td>\n",
              "    </tr>\n",
              "    <tr>\n",
              "      <th>5</th>\n",
              "      <td>0.000000</td>\n",
              "      <td>0.316507</td>\n",
              "      <td>0.000000</td>\n",
              "      <td>0.000000</td>\n",
              "      <td>0.000000</td>\n",
              "      <td>0.000000</td>\n",
              "      <td>0.000000</td>\n",
              "      <td>0.000000</td>\n",
              "      <td>0.000000</td>\n",
              "      <td>0.000000</td>\n",
              "      <td>...</td>\n",
              "      <td>0.000000</td>\n",
              "      <td>0.000000</td>\n",
              "      <td>0.000000</td>\n",
              "      <td>0.000000</td>\n",
              "      <td>0.000000</td>\n",
              "      <td>0.000000</td>\n",
              "      <td>0.000000</td>\n",
              "      <td>0.000000</td>\n",
              "      <td>0.000000</td>\n",
              "      <td>0.000000</td>\n",
              "    </tr>\n",
              "    <tr>\n",
              "      <th>6</th>\n",
              "      <td>0.000000</td>\n",
              "      <td>0.316507</td>\n",
              "      <td>0.000000</td>\n",
              "      <td>0.000000</td>\n",
              "      <td>0.000000</td>\n",
              "      <td>0.000000</td>\n",
              "      <td>0.000000</td>\n",
              "      <td>0.000000</td>\n",
              "      <td>0.280509</td>\n",
              "      <td>0.000000</td>\n",
              "      <td>...</td>\n",
              "      <td>0.000000</td>\n",
              "      <td>0.000000</td>\n",
              "      <td>0.000000</td>\n",
              "      <td>0.000000</td>\n",
              "      <td>0.485232</td>\n",
              "      <td>0.000000</td>\n",
              "      <td>0.000000</td>\n",
              "      <td>0.000000</td>\n",
              "      <td>0.000000</td>\n",
              "      <td>0.000000</td>\n",
              "    </tr>\n",
              "    <tr>\n",
              "      <th>7</th>\n",
              "      <td>0.000000</td>\n",
              "      <td>0.000000</td>\n",
              "      <td>0.000000</td>\n",
              "      <td>0.000000</td>\n",
              "      <td>0.000000</td>\n",
              "      <td>0.280509</td>\n",
              "      <td>0.000000</td>\n",
              "      <td>0.000000</td>\n",
              "      <td>0.000000</td>\n",
              "      <td>0.000000</td>\n",
              "      <td>...</td>\n",
              "      <td>0.000000</td>\n",
              "      <td>0.000000</td>\n",
              "      <td>0.000000</td>\n",
              "      <td>0.000000</td>\n",
              "      <td>0.000000</td>\n",
              "      <td>0.000000</td>\n",
              "      <td>0.316507</td>\n",
              "      <td>0.000000</td>\n",
              "      <td>0.000000</td>\n",
              "      <td>0.000000</td>\n",
              "    </tr>\n",
              "    <tr>\n",
              "      <th>8</th>\n",
              "      <td>0.000000</td>\n",
              "      <td>0.000000</td>\n",
              "      <td>0.000000</td>\n",
              "      <td>0.000000</td>\n",
              "      <td>0.000000</td>\n",
              "      <td>0.000000</td>\n",
              "      <td>0.000000</td>\n",
              "      <td>0.000000</td>\n",
              "      <td>0.000000</td>\n",
              "      <td>0.000000</td>\n",
              "      <td>...</td>\n",
              "      <td>0.000000</td>\n",
              "      <td>0.316507</td>\n",
              "      <td>0.000000</td>\n",
              "      <td>0.000000</td>\n",
              "      <td>0.485232</td>\n",
              "      <td>0.000000</td>\n",
              "      <td>0.000000</td>\n",
              "      <td>0.000000</td>\n",
              "      <td>0.000000</td>\n",
              "      <td>0.000000</td>\n",
              "    </tr>\n",
              "    <tr>\n",
              "      <th>9</th>\n",
              "      <td>0.000000</td>\n",
              "      <td>0.000000</td>\n",
              "      <td>0.000000</td>\n",
              "      <td>0.316507</td>\n",
              "      <td>0.000000</td>\n",
              "      <td>0.000000</td>\n",
              "      <td>0.000000</td>\n",
              "      <td>0.000000</td>\n",
              "      <td>0.000000</td>\n",
              "      <td>0.000000</td>\n",
              "      <td>...</td>\n",
              "      <td>0.000000</td>\n",
              "      <td>0.000000</td>\n",
              "      <td>0.000000</td>\n",
              "      <td>0.000000</td>\n",
              "      <td>0.485232</td>\n",
              "      <td>0.000000</td>\n",
              "      <td>0.000000</td>\n",
              "      <td>0.000000</td>\n",
              "      <td>0.000000</td>\n",
              "      <td>0.000000</td>\n",
              "    </tr>\n",
              "    <tr>\n",
              "      <th>10</th>\n",
              "      <td>0.000000</td>\n",
              "      <td>0.000000</td>\n",
              "      <td>0.000000</td>\n",
              "      <td>0.316507</td>\n",
              "      <td>0.000000</td>\n",
              "      <td>0.000000</td>\n",
              "      <td>0.000000</td>\n",
              "      <td>0.000000</td>\n",
              "      <td>0.000000</td>\n",
              "      <td>0.000000</td>\n",
              "      <td>...</td>\n",
              "      <td>0.000000</td>\n",
              "      <td>0.000000</td>\n",
              "      <td>0.000000</td>\n",
              "      <td>0.000000</td>\n",
              "      <td>0.485232</td>\n",
              "      <td>0.000000</td>\n",
              "      <td>0.000000</td>\n",
              "      <td>0.000000</td>\n",
              "      <td>0.000000</td>\n",
              "      <td>0.000000</td>\n",
              "    </tr>\n",
              "    <tr>\n",
              "      <th>11</th>\n",
              "      <td>0.000000</td>\n",
              "      <td>0.000000</td>\n",
              "      <td>0.000000</td>\n",
              "      <td>0.000000</td>\n",
              "      <td>0.000000</td>\n",
              "      <td>0.000000</td>\n",
              "      <td>0.000000</td>\n",
              "      <td>0.000000</td>\n",
              "      <td>0.000000</td>\n",
              "      <td>0.000000</td>\n",
              "      <td>...</td>\n",
              "      <td>0.000000</td>\n",
              "      <td>0.000000</td>\n",
              "      <td>0.000000</td>\n",
              "      <td>0.000000</td>\n",
              "      <td>0.485232</td>\n",
              "      <td>0.000000</td>\n",
              "      <td>0.000000</td>\n",
              "      <td>0.000000</td>\n",
              "      <td>0.000000</td>\n",
              "      <td>0.000000</td>\n",
              "    </tr>\n",
              "    <tr>\n",
              "      <th>12</th>\n",
              "      <td>0.000000</td>\n",
              "      <td>0.000000</td>\n",
              "      <td>0.000000</td>\n",
              "      <td>0.000000</td>\n",
              "      <td>0.000000</td>\n",
              "      <td>0.000000</td>\n",
              "      <td>0.000000</td>\n",
              "      <td>0.000000</td>\n",
              "      <td>0.000000</td>\n",
              "      <td>0.000000</td>\n",
              "      <td>...</td>\n",
              "      <td>0.000000</td>\n",
              "      <td>0.316507</td>\n",
              "      <td>0.000000</td>\n",
              "      <td>0.280509</td>\n",
              "      <td>0.000000</td>\n",
              "      <td>0.000000</td>\n",
              "      <td>0.000000</td>\n",
              "      <td>0.000000</td>\n",
              "      <td>0.000000</td>\n",
              "      <td>0.000000</td>\n",
              "    </tr>\n",
              "    <tr>\n",
              "      <th>13</th>\n",
              "      <td>0.000000</td>\n",
              "      <td>0.000000</td>\n",
              "      <td>0.316507</td>\n",
              "      <td>0.000000</td>\n",
              "      <td>0.000000</td>\n",
              "      <td>0.000000</td>\n",
              "      <td>0.000000</td>\n",
              "      <td>0.000000</td>\n",
              "      <td>0.000000</td>\n",
              "      <td>0.000000</td>\n",
              "      <td>...</td>\n",
              "      <td>0.000000</td>\n",
              "      <td>0.000000</td>\n",
              "      <td>0.000000</td>\n",
              "      <td>0.000000</td>\n",
              "      <td>0.485232</td>\n",
              "      <td>0.000000</td>\n",
              "      <td>0.000000</td>\n",
              "      <td>0.000000</td>\n",
              "      <td>0.000000</td>\n",
              "      <td>0.000000</td>\n",
              "    </tr>\n",
              "    <tr>\n",
              "      <th>14</th>\n",
              "      <td>0.000000</td>\n",
              "      <td>0.000000</td>\n",
              "      <td>0.000000</td>\n",
              "      <td>0.000000</td>\n",
              "      <td>0.000000</td>\n",
              "      <td>0.000000</td>\n",
              "      <td>0.000000</td>\n",
              "      <td>0.000000</td>\n",
              "      <td>0.000000</td>\n",
              "      <td>0.000000</td>\n",
              "      <td>...</td>\n",
              "      <td>0.000000</td>\n",
              "      <td>0.000000</td>\n",
              "      <td>0.000000</td>\n",
              "      <td>0.000000</td>\n",
              "      <td>0.000000</td>\n",
              "      <td>0.000000</td>\n",
              "      <td>0.000000</td>\n",
              "      <td>0.000000</td>\n",
              "      <td>0.000000</td>\n",
              "      <td>0.316507</td>\n",
              "    </tr>\n",
              "    <tr>\n",
              "      <th>15</th>\n",
              "      <td>0.000000</td>\n",
              "      <td>0.000000</td>\n",
              "      <td>0.316507</td>\n",
              "      <td>0.000000</td>\n",
              "      <td>0.000000</td>\n",
              "      <td>0.000000</td>\n",
              "      <td>0.000000</td>\n",
              "      <td>0.000000</td>\n",
              "      <td>0.000000</td>\n",
              "      <td>0.000000</td>\n",
              "      <td>...</td>\n",
              "      <td>0.000000</td>\n",
              "      <td>0.000000</td>\n",
              "      <td>0.000000</td>\n",
              "      <td>0.000000</td>\n",
              "      <td>0.000000</td>\n",
              "      <td>0.000000</td>\n",
              "      <td>0.000000</td>\n",
              "      <td>0.000000</td>\n",
              "      <td>0.280509</td>\n",
              "      <td>0.000000</td>\n",
              "    </tr>\n",
              "    <tr>\n",
              "      <th>16</th>\n",
              "      <td>0.000000</td>\n",
              "      <td>0.000000</td>\n",
              "      <td>0.000000</td>\n",
              "      <td>0.000000</td>\n",
              "      <td>0.000000</td>\n",
              "      <td>0.000000</td>\n",
              "      <td>0.000000</td>\n",
              "      <td>0.000000</td>\n",
              "      <td>0.000000</td>\n",
              "      <td>0.000000</td>\n",
              "      <td>...</td>\n",
              "      <td>0.000000</td>\n",
              "      <td>0.000000</td>\n",
              "      <td>0.000000</td>\n",
              "      <td>0.000000</td>\n",
              "      <td>0.485232</td>\n",
              "      <td>0.000000</td>\n",
              "      <td>0.316507</td>\n",
              "      <td>0.000000</td>\n",
              "      <td>0.000000</td>\n",
              "      <td>0.000000</td>\n",
              "    </tr>\n",
              "    <tr>\n",
              "      <th>17</th>\n",
              "      <td>0.000000</td>\n",
              "      <td>0.000000</td>\n",
              "      <td>0.000000</td>\n",
              "      <td>0.000000</td>\n",
              "      <td>0.000000</td>\n",
              "      <td>0.000000</td>\n",
              "      <td>0.000000</td>\n",
              "      <td>0.000000</td>\n",
              "      <td>0.000000</td>\n",
              "      <td>0.000000</td>\n",
              "      <td>...</td>\n",
              "      <td>0.000000</td>\n",
              "      <td>0.000000</td>\n",
              "      <td>0.000000</td>\n",
              "      <td>0.000000</td>\n",
              "      <td>0.000000</td>\n",
              "      <td>0.000000</td>\n",
              "      <td>0.000000</td>\n",
              "      <td>0.000000</td>\n",
              "      <td>0.000000</td>\n",
              "      <td>0.000000</td>\n",
              "    </tr>\n",
              "    <tr>\n",
              "      <th>18</th>\n",
              "      <td>0.316507</td>\n",
              "      <td>0.000000</td>\n",
              "      <td>0.000000</td>\n",
              "      <td>0.000000</td>\n",
              "      <td>0.000000</td>\n",
              "      <td>0.000000</td>\n",
              "      <td>0.000000</td>\n",
              "      <td>0.000000</td>\n",
              "      <td>0.000000</td>\n",
              "      <td>0.000000</td>\n",
              "      <td>...</td>\n",
              "      <td>0.000000</td>\n",
              "      <td>0.000000</td>\n",
              "      <td>0.000000</td>\n",
              "      <td>0.000000</td>\n",
              "      <td>0.000000</td>\n",
              "      <td>0.000000</td>\n",
              "      <td>0.000000</td>\n",
              "      <td>0.000000</td>\n",
              "      <td>0.000000</td>\n",
              "      <td>0.000000</td>\n",
              "    </tr>\n",
              "    <tr>\n",
              "      <th>19</th>\n",
              "      <td>0.000000</td>\n",
              "      <td>0.000000</td>\n",
              "      <td>0.000000</td>\n",
              "      <td>0.000000</td>\n",
              "      <td>0.000000</td>\n",
              "      <td>0.000000</td>\n",
              "      <td>0.000000</td>\n",
              "      <td>0.000000</td>\n",
              "      <td>0.000000</td>\n",
              "      <td>0.000000</td>\n",
              "      <td>...</td>\n",
              "      <td>0.000000</td>\n",
              "      <td>0.000000</td>\n",
              "      <td>0.000000</td>\n",
              "      <td>0.000000</td>\n",
              "      <td>0.000000</td>\n",
              "      <td>0.000000</td>\n",
              "      <td>0.000000</td>\n",
              "      <td>0.000000</td>\n",
              "      <td>0.000000</td>\n",
              "      <td>0.316507</td>\n",
              "    </tr>\n",
              "    <tr>\n",
              "      <th>20</th>\n",
              "      <td>0.000000</td>\n",
              "      <td>0.000000</td>\n",
              "      <td>0.000000</td>\n",
              "      <td>0.000000</td>\n",
              "      <td>0.000000</td>\n",
              "      <td>0.000000</td>\n",
              "      <td>0.000000</td>\n",
              "      <td>0.000000</td>\n",
              "      <td>0.000000</td>\n",
              "      <td>0.000000</td>\n",
              "      <td>...</td>\n",
              "      <td>0.000000</td>\n",
              "      <td>0.000000</td>\n",
              "      <td>0.000000</td>\n",
              "      <td>0.000000</td>\n",
              "      <td>0.000000</td>\n",
              "      <td>0.000000</td>\n",
              "      <td>0.000000</td>\n",
              "      <td>0.280509</td>\n",
              "      <td>0.000000</td>\n",
              "      <td>0.000000</td>\n",
              "    </tr>\n",
              "    <tr>\n",
              "      <th>21</th>\n",
              "      <td>0.000000</td>\n",
              "      <td>0.000000</td>\n",
              "      <td>0.000000</td>\n",
              "      <td>0.000000</td>\n",
              "      <td>0.000000</td>\n",
              "      <td>0.000000</td>\n",
              "      <td>0.000000</td>\n",
              "      <td>0.000000</td>\n",
              "      <td>0.000000</td>\n",
              "      <td>0.000000</td>\n",
              "      <td>...</td>\n",
              "      <td>0.000000</td>\n",
              "      <td>0.000000</td>\n",
              "      <td>0.000000</td>\n",
              "      <td>0.000000</td>\n",
              "      <td>0.000000</td>\n",
              "      <td>0.000000</td>\n",
              "      <td>0.000000</td>\n",
              "      <td>0.000000</td>\n",
              "      <td>0.000000</td>\n",
              "      <td>0.000000</td>\n",
              "    </tr>\n",
              "    <tr>\n",
              "      <th>22</th>\n",
              "      <td>0.000000</td>\n",
              "      <td>0.000000</td>\n",
              "      <td>0.000000</td>\n",
              "      <td>0.000000</td>\n",
              "      <td>0.280509</td>\n",
              "      <td>0.000000</td>\n",
              "      <td>0.000000</td>\n",
              "      <td>0.000000</td>\n",
              "      <td>0.000000</td>\n",
              "      <td>0.000000</td>\n",
              "      <td>...</td>\n",
              "      <td>0.000000</td>\n",
              "      <td>0.000000</td>\n",
              "      <td>0.280509</td>\n",
              "      <td>0.000000</td>\n",
              "      <td>0.000000</td>\n",
              "      <td>0.000000</td>\n",
              "      <td>0.000000</td>\n",
              "      <td>0.000000</td>\n",
              "      <td>0.000000</td>\n",
              "      <td>0.000000</td>\n",
              "    </tr>\n",
              "    <tr>\n",
              "      <th>23</th>\n",
              "      <td>0.000000</td>\n",
              "      <td>0.000000</td>\n",
              "      <td>0.000000</td>\n",
              "      <td>0.000000</td>\n",
              "      <td>0.000000</td>\n",
              "      <td>0.000000</td>\n",
              "      <td>0.000000</td>\n",
              "      <td>0.000000</td>\n",
              "      <td>0.000000</td>\n",
              "      <td>0.000000</td>\n",
              "      <td>...</td>\n",
              "      <td>0.000000</td>\n",
              "      <td>0.000000</td>\n",
              "      <td>0.000000</td>\n",
              "      <td>0.000000</td>\n",
              "      <td>0.000000</td>\n",
              "      <td>0.000000</td>\n",
              "      <td>0.000000</td>\n",
              "      <td>0.000000</td>\n",
              "      <td>0.000000</td>\n",
              "      <td>0.000000</td>\n",
              "    </tr>\n",
              "    <tr>\n",
              "      <th>24</th>\n",
              "      <td>0.000000</td>\n",
              "      <td>0.000000</td>\n",
              "      <td>0.000000</td>\n",
              "      <td>0.000000</td>\n",
              "      <td>0.000000</td>\n",
              "      <td>0.000000</td>\n",
              "      <td>0.000000</td>\n",
              "      <td>0.000000</td>\n",
              "      <td>0.000000</td>\n",
              "      <td>0.000000</td>\n",
              "      <td>...</td>\n",
              "      <td>0.000000</td>\n",
              "      <td>0.000000</td>\n",
              "      <td>0.000000</td>\n",
              "      <td>0.000000</td>\n",
              "      <td>0.000000</td>\n",
              "      <td>0.000000</td>\n",
              "      <td>0.000000</td>\n",
              "      <td>0.000000</td>\n",
              "      <td>0.000000</td>\n",
              "      <td>0.000000</td>\n",
              "    </tr>\n",
              "  </tbody>\n",
              "</table>\n",
              "<p>25 rows × 340 columns</p>\n",
              "</div>\n",
              "      <button class=\"colab-df-convert\" onclick=\"convertToInteractive('df-74e506ba-2c9b-4bec-a95a-8b5dbfd5ac53')\"\n",
              "              title=\"Convert this dataframe to an interactive table.\"\n",
              "              style=\"display:none;\">\n",
              "        \n",
              "  <svg xmlns=\"http://www.w3.org/2000/svg\" height=\"24px\"viewBox=\"0 0 24 24\"\n",
              "       width=\"24px\">\n",
              "    <path d=\"M0 0h24v24H0V0z\" fill=\"none\"/>\n",
              "    <path d=\"M18.56 5.44l.94 2.06.94-2.06 2.06-.94-2.06-.94-.94-2.06-.94 2.06-2.06.94zm-11 1L8.5 8.5l.94-2.06 2.06-.94-2.06-.94L8.5 2.5l-.94 2.06-2.06.94zm10 10l.94 2.06.94-2.06 2.06-.94-2.06-.94-.94-2.06-.94 2.06-2.06.94z\"/><path d=\"M17.41 7.96l-1.37-1.37c-.4-.4-.92-.59-1.43-.59-.52 0-1.04.2-1.43.59L10.3 9.45l-7.72 7.72c-.78.78-.78 2.05 0 2.83L4 21.41c.39.39.9.59 1.41.59.51 0 1.02-.2 1.41-.59l7.78-7.78 2.81-2.81c.8-.78.8-2.07 0-2.86zM5.41 20L4 18.59l7.72-7.72 1.47 1.35L5.41 20z\"/>\n",
              "  </svg>\n",
              "      </button>\n",
              "      \n",
              "  <style>\n",
              "    .colab-df-container {\n",
              "      display:flex;\n",
              "      flex-wrap:wrap;\n",
              "      gap: 12px;\n",
              "    }\n",
              "\n",
              "    .colab-df-convert {\n",
              "      background-color: #E8F0FE;\n",
              "      border: none;\n",
              "      border-radius: 50%;\n",
              "      cursor: pointer;\n",
              "      display: none;\n",
              "      fill: #1967D2;\n",
              "      height: 32px;\n",
              "      padding: 0 0 0 0;\n",
              "      width: 32px;\n",
              "    }\n",
              "\n",
              "    .colab-df-convert:hover {\n",
              "      background-color: #E2EBFA;\n",
              "      box-shadow: 0px 1px 2px rgba(60, 64, 67, 0.3), 0px 1px 3px 1px rgba(60, 64, 67, 0.15);\n",
              "      fill: #174EA6;\n",
              "    }\n",
              "\n",
              "    [theme=dark] .colab-df-convert {\n",
              "      background-color: #3B4455;\n",
              "      fill: #D2E3FC;\n",
              "    }\n",
              "\n",
              "    [theme=dark] .colab-df-convert:hover {\n",
              "      background-color: #434B5C;\n",
              "      box-shadow: 0px 1px 3px 1px rgba(0, 0, 0, 0.15);\n",
              "      filter: drop-shadow(0px 1px 2px rgba(0, 0, 0, 0.3));\n",
              "      fill: #FFFFFF;\n",
              "    }\n",
              "  </style>\n",
              "\n",
              "      <script>\n",
              "        const buttonEl =\n",
              "          document.querySelector('#df-74e506ba-2c9b-4bec-a95a-8b5dbfd5ac53 button.colab-df-convert');\n",
              "        buttonEl.style.display =\n",
              "          google.colab.kernel.accessAllowed ? 'block' : 'none';\n",
              "\n",
              "        async function convertToInteractive(key) {\n",
              "          const element = document.querySelector('#df-74e506ba-2c9b-4bec-a95a-8b5dbfd5ac53');\n",
              "          const dataTable =\n",
              "            await google.colab.kernel.invokeFunction('convertToInteractive',\n",
              "                                                     [key], {});\n",
              "          if (!dataTable) return;\n",
              "\n",
              "          const docLinkHtml = 'Like what you see? Visit the ' +\n",
              "            '<a target=\"_blank\" href=https://colab.research.google.com/notebooks/data_table.ipynb>data table notebook</a>'\n",
              "            + ' to learn more about interactive tables.';\n",
              "          element.innerHTML = '';\n",
              "          dataTable['output_type'] = 'display_data';\n",
              "          await google.colab.output.renderOutput(dataTable, element);\n",
              "          const docLink = document.createElement('div');\n",
              "          docLink.innerHTML = docLinkHtml;\n",
              "          element.appendChild(docLink);\n",
              "        }\n",
              "      </script>\n",
              "    </div>\n",
              "  </div>\n",
              "  "
            ]
          },
          "metadata": {},
          "execution_count": 29
        }
      ]
    },
    {
      "cell_type": "code",
      "source": [
        "# 엑셀파일로드\n",
        "from google.colab import files\n",
        "tfidf.to_csv('tf-idf.csv', encoding = 'utf-8-sig',sep=',')\n",
        "files.download('tf-idf.csv')"
      ],
      "metadata": {
        "colab": {
          "base_uri": "https://localhost:8080/",
          "height": 17
        },
        "id": "V2qTJpOhUk9b",
        "outputId": "79851aea-b3e8-4966-ca6d-cc08caa8d73a"
      },
      "execution_count": null,
      "outputs": [
        {
          "output_type": "display_data",
          "data": {
            "text/plain": [
              "<IPython.core.display.Javascript object>"
            ],
            "application/javascript": [
              "\n",
              "    async function download(id, filename, size) {\n",
              "      if (!google.colab.kernel.accessAllowed) {\n",
              "        return;\n",
              "      }\n",
              "      const div = document.createElement('div');\n",
              "      const label = document.createElement('label');\n",
              "      label.textContent = `Downloading \"${filename}\": `;\n",
              "      div.appendChild(label);\n",
              "      const progress = document.createElement('progress');\n",
              "      progress.max = size;\n",
              "      div.appendChild(progress);\n",
              "      document.body.appendChild(div);\n",
              "\n",
              "      const buffers = [];\n",
              "      let downloaded = 0;\n",
              "\n",
              "      const channel = await google.colab.kernel.comms.open(id);\n",
              "      // Send a message to notify the kernel that we're ready.\n",
              "      channel.send({})\n",
              "\n",
              "      for await (const message of channel.messages) {\n",
              "        // Send a message to notify the kernel that we're ready.\n",
              "        channel.send({})\n",
              "        if (message.buffers) {\n",
              "          for (const buffer of message.buffers) {\n",
              "            buffers.push(buffer);\n",
              "            downloaded += buffer.byteLength;\n",
              "            progress.value = downloaded;\n",
              "          }\n",
              "        }\n",
              "      }\n",
              "      const blob = new Blob(buffers, {type: 'application/binary'});\n",
              "      const a = document.createElement('a');\n",
              "      a.href = window.URL.createObjectURL(blob);\n",
              "      a.download = filename;\n",
              "      div.appendChild(a);\n",
              "      a.click();\n",
              "      div.remove();\n",
              "    }\n",
              "  "
            ]
          },
          "metadata": {}
        },
        {
          "output_type": "display_data",
          "data": {
            "text/plain": [
              "<IPython.core.display.Javascript object>"
            ],
            "application/javascript": [
              "download(\"download_26fd8b19-6038-453d-831b-a60363915bc8\", \"tf-idf.csv\", 45005)"
            ]
          },
          "metadata": {}
        }
      ]
    },
    {
      "cell_type": "code",
      "source": [],
      "metadata": {
        "id": "quBRR8JOqYOp"
      },
      "execution_count": null,
      "outputs": []
    }
  ]
}